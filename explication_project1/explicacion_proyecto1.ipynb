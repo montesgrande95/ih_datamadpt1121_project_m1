{
 "cells": [
  {
   "cell_type": "code",
   "execution_count": null,
   "metadata": {},
   "outputs": [],
   "source": []
  },
  {
   "cell_type": "markdown",
   "metadata": {},
   "source": [
    "PROYECTO MODULO 1 (Entrega 22 enero)\n",
    "-----------------\n",
    "Hacer un pipeline, parte de los datos traerlos de la base de datos y parte de una api.\n",
    "\n",
    "1. hacer un fork del proyecto en nuestro repositorio de git.(ya lo tengo en mi repo)\n",
    "\n",
    "2. los datos: 1 una tabla que tenemos en el servidor de azure. El segundo set de datos son datos de la api rest del portal de datos abiertos del ayuntamiento de madrid.\n",
    "\n",
    "3. main challengue = lo minimo que tenemos que hacer, los bonus ya elegimos si queremos hacerlos o no., el main challengue es que generemos una tabla como la que aparece place of interest, type of place, place address, el dataset de azure tiene las dos culumnas de la derecha (del final), y el otro dataset tiene el resto, es decir de la api sacaremos las tres primeras columnas.\n",
    "\n",
    "4. el programa como minimo tiene que tener: un repositorio(podemos usar el repo forkeado o crear una nuevo para nuestro proyecto) si no tenemos un repo no podemos presentar el proyecto usamos la rama principal de ese repo e ir guardandolo poco a poco (git commit y git push)\n",
    "\n",
    "5. minimo nuestro pipeline tiene que generar un fichero csv, que lo guardara donde sea, mas alla de esto podemos hacer lo que queramos ( que lo envie por mail a alguien o cosas de ese estilo, pero lo mas importante de todo es que se genere un fichero csv, en nuestro repo)\n",
    "\n",
    "6. Le vamos a tener que dar a nuestro programa la posibilidad de hacer dos cosas : o para un solo caso de nuestro dataset o para mas datos de nuestro dataset.\n",
    "\n",
    "7. para saber cual es la estacion de bicimad mas cercana vamos a tener que saber la localizacion en coordenadas ( vamos a usar un modulo que esta en la carpeta modules, que nos calcula la distancia entre dos coordenadas) lo mas difcil es sacar la informacion de la latitud, longitud y eso, el modulo se llama geo_calculations.py, la latitud y longitud no la ponemos en la tabla porque al final la tabla es para que la vea alguien y no tiene sentido poner la latitud y la longitud.\n",
    "\n",
    "\n",
    "(vamos a tener un conjunto de lugares en un dataset, y en otro dataset vamos a tener todas las estaciones de bicimad, el objetivo es dado un lugar determinado, encontrar la estacion de bicimad mas cercana), cogemos el lugar y calculamos la distancia con todas las estaciones de bicimad, y una vez que tenemos la distancia de nuestro lugar con todas las estaciones las ordenariamos y cogeriamos la menor de las distancias.\n",
    "\n",
    "\n",
    "el objetivo es poner en nuestro terminal la direccion que nosotros queramos (de los lugares que aparecen en la tabla, y que nos de una tabla de una sola linea con la estacion de bicimad mas cercana) el modulo que nos da va a ser el que nos calcule la distancia entre nuestro lugar y las estaciones de bicimad, por lo tanto ese trabajo que nos ahorramos.\n",
    "\n",
    "8. Una vez hecho todo tenemos que hacer una presentacion.\n",
    "\n",
    "9. Intentar hacer el codigo lo mas limpio posible, vamos a hacer un concurso de codigo en el que tendremos que presentar la parte del proyecto que nosotros creemos que esta mas limpia, pero esto es lo menos importante de todo.\n",
    "\n",
    "\n",
    "10. bonus 1 = incluir en nuestra tabla la disponibilidad de las bicis que tenemos en la estacion mas cercana. ( hasta que no tengamos el main challengue perfecto no intentar nada de los bonus)\n",
    "\n",
    "\n",
    "\n",
    "PROJECT MAIN STACK( lo que vamos a tener que usar para el proyecto)\n",
    "\n",
    "- azure sql database.\n",
    "- sql alchemy.\n",
    "- requests (libreria)\n",
    "- pandas (libreria) (vamos a tener que hacer parte de lo que hicimos en el lab de pandas apply lambda)\n",
    "- module geo_calculations.py ( para la comparacion entre las latitudes de una de las direcciones de la tabla con todas las estaciones de bicimad de la tabla, y que nos de la estacion de bicimad mas cercana)\n",
    "- argparse (lo que nos permite que no se ejecute una sola cosa, sino que le demos opciones a la ejecucion en la terminal)\n",
    "\n",
    "\n",
    "\n",
    "\n",
    "\n",
    "el enlace que tenemos de portal de datos abiertos, nos lleva al catalogo, entonces tendremos que buscar ahi el dataset que nos toque. \n",
    "traer el dataset en formato json porque va a ser el que mejor este.\n",
    "\n",
    "\n",
    "\n",
    "* ¿como empezamos? haciendo el fork, clonamos el fork, y a partir de ahi empexamos a trabajar en el local, creamos una carpeta de notebooks, y en cada notebook tendremos partes del proyecto. intentar hacer las buenas practicas con las varibales e ir explicando todo para no hacernos un lio.\n",
    "haremos la carpeta de notebooks, la carpeta de data, el mismo readme que tenemos modificarlo para nuestro proyecto.\n",
    "\n",
    "Lo que mas vamos a usar y donde mas problemas vamos a tener es con pandas, mirar mucho en la documentacion de pandas y en las lessons que hemos dado en clase de pandas.\n",
    "\n",
    "\n",
    "Meter un input en el proyecto.\n",
    "\n",
    "\n",
    "Dataset que tengo que pillar:  sedes:centros con espacios deportivos.\n",
    "\n",
    "\n",
    "\n",
    "\n"
   ]
  },
  {
   "cell_type": "markdown",
   "metadata": {},
   "source": [
    "PARTES HECHAS\n",
    "--------------\n",
    "\n",
    "1. REPO FORKEADO.(estoy haciendo todo en la rama main)\n",
    "2. CARPETA DE CODIGO CREADA(dentro de la cual iremos creando archivos con las partes del codigo que hagamos)\n",
    "3. importar todas las librerias.\n",
    "4. importar las tablas de sql y la base de datos de la comunidad de madrid.\n",
    "5. limpieza de la tabla de bicimad_stations.\n",
    "6. pillamos lo que nos interesa de las dos tablas para compararlas.\n",
    "7. bucles para comparar las dos tablas, las columnas de latitud y longitud del dataframe_final2, con todo el       dataframe_final1(el que contine todas las estaciones de bicimad de madrid)\n",
    "\n"
   ]
  }
 ],
 "metadata": {
  "interpreter": {
   "hash": "5254c5da4ee7f2ea8e32209127bb8d3b9f4d61892f2c278ff01f546b0faaf7e9"
  },
  "kernelspec": {
   "display_name": "Python 3.7.11 64-bit ('ironhack': conda)",
   "language": "python",
   "name": "python3"
  },
  "language_info": {
   "name": "python",
   "version": "3.7.11"
  },
  "orig_nbformat": 4
 },
 "nbformat": 4,
 "nbformat_minor": 2
}
