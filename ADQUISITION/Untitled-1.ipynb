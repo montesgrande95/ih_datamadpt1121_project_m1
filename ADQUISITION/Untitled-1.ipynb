{
 "cells": [
  {
   "cell_type": "code",
   "execution_count": null,
   "metadata": {},
   "outputs": [],
   "source": []
  }
 ],
 "metadata": {
  "interpreter": {
   "hash": "739027eeb1d225937f71a5615bb0fc47eb1537931d7050e58ddaf32c97f4e560"
  },
  "kernelspec": {
   "display_name": "Python 3.7.11 64-bit ('proyecto1': conda)",
   "language": "python",
   "name": "python3"
  },
  "language_info": {
   "name": "python",
   "version": "3.7.11"
  },
  "orig_nbformat": 4
 },
 "nbformat": 4,
 "nbformat_minor": 2
}
